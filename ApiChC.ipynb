{
  "nbformat": 4,
  "nbformat_minor": 0,
  "metadata": {
    "colab": {
      "name": "ApiChC",
      "provenance": [],
      "collapsed_sections": [],
      "authorship_tag": "ABX9TyN7fsZnjND71W/ujxUtMAvA",
      "include_colab_link": true
    },
    "kernelspec": {
      "name": "python3",
      "display_name": "Python 3"
    }
  },
  "cells": [
    {
      "cell_type": "markdown",
      "metadata": {
        "id": "view-in-github",
        "colab_type": "text"
      },
      "source": [
        "<a href=\"https://colab.research.google.com/github/josemoragonzalez/ejemplosColab/blob/master/ApiChC.ipynb\" target=\"_parent\"><img src=\"https://colab.research.google.com/assets/colab-badge.svg\" alt=\"Open In Colab\"/></a>"
      ]
    },
    {
      "cell_type": "markdown",
      "metadata": {
        "id": "QTwzosXGkJCP",
        "colab_type": "text"
      },
      "source": [
        "# Tercer Ejercicio, Api desarrolladores ChC"
      ]
    },
    {
      "cell_type": "code",
      "metadata": {
        "id": "tmcYviyJkARg",
        "colab_type": "code",
        "colab": {}
      },
      "source": [
        "import pandas as pd\n",
        "import requests"
      ],
      "execution_count": 1,
      "outputs": []
    },
    {
      "cell_type": "code",
      "metadata": {
        "id": "Ivxeo06mrf2R",
        "colab_type": "code",
        "colab": {}
      },
      "source": [
        "# Agregar tu ticket\n",
        "ticket = 'C495FBFD-6480-46C6-8A1A-EAE762EC0271'"
      ],
      "execution_count": 2,
      "outputs": []
    },
    {
      "cell_type": "code",
      "metadata": {
        "id": "LFTmWC4Uld5p",
        "colab_type": "code",
        "colab": {}
      },
      "source": [
        "def compradores(ticket):\n",
        "  url = 'http://api.mercadopublico.cl/servicios/v1/Publico/Empresas/BuscarComprador?ticket='+ticket\n",
        "  r = requests.get(url)\n",
        "  comp_json = r.json()\n",
        "  df = pd.json_normalize(comp_json['listaEmpresas']) \n",
        "  return df"
      ],
      "execution_count": 3,
      "outputs": []
    },
    {
      "cell_type": "code",
      "metadata": {
        "id": "GEYnpXQVl5mc",
        "colab_type": "code",
        "colab": {
          "base_uri": "https://localhost:8080/",
          "height": 419
        },
        "outputId": "99c8b947-8e93-413b-eaf1-ff71c2850197"
      },
      "source": [
        "dfcomp = compradores(ticket)\n",
        "dfcomp"
      ],
      "execution_count": 4,
      "outputs": [
        {
          "output_type": "execute_result",
          "data": {
            "text/html": [
              "<div>\n",
              "<style scoped>\n",
              "    .dataframe tbody tr th:only-of-type {\n",
              "        vertical-align: middle;\n",
              "    }\n",
              "\n",
              "    .dataframe tbody tr th {\n",
              "        vertical-align: top;\n",
              "    }\n",
              "\n",
              "    .dataframe thead th {\n",
              "        text-align: right;\n",
              "    }\n",
              "</style>\n",
              "<table border=\"1\" class=\"dataframe\">\n",
              "  <thead>\n",
              "    <tr style=\"text-align: right;\">\n",
              "      <th></th>\n",
              "      <th>CodigoEmpresa</th>\n",
              "      <th>NombreEmpresa</th>\n",
              "    </tr>\n",
              "  </thead>\n",
              "  <tbody>\n",
              "    <tr>\n",
              "      <th>0</th>\n",
              "      <td>1034640</td>\n",
              "      <td>CORPORACION MUNICIPAL DE PEÑALOLEN PARA EL DE...</td>\n",
              "    </tr>\n",
              "    <tr>\n",
              "      <th>1</th>\n",
              "      <td>7311</td>\n",
              "      <td>Hospital de enfermedades InfecciDr. Lucio Cór...</td>\n",
              "    </tr>\n",
              "    <tr>\n",
              "      <th>2</th>\n",
              "      <td>7086</td>\n",
              "      <td>AGCID</td>\n",
              "    </tr>\n",
              "    <tr>\n",
              "      <th>3</th>\n",
              "      <td>1224636</td>\n",
              "      <td>Agencia Chilena de Eficiencia Energética</td>\n",
              "    </tr>\n",
              "    <tr>\n",
              "      <th>4</th>\n",
              "      <td>7193</td>\n",
              "      <td>Agencia de Promoción de la Inversión Extranjera</td>\n",
              "    </tr>\n",
              "    <tr>\n",
              "      <th>...</th>\n",
              "      <td>...</td>\n",
              "      <td>...</td>\n",
              "    </tr>\n",
              "    <tr>\n",
              "      <th>856</th>\n",
              "      <td>96996</td>\n",
              "      <td>Universidad de Valparaíso</td>\n",
              "    </tr>\n",
              "    <tr>\n",
              "      <th>857</th>\n",
              "      <td>99805</td>\n",
              "      <td>Universidad del Bío-Bío</td>\n",
              "    </tr>\n",
              "    <tr>\n",
              "      <th>858</th>\n",
              "      <td>164268</td>\n",
              "      <td>UNIVERSIDAD METROPOLITANA DE CIENCIAS DE LA ED...</td>\n",
              "    </tr>\n",
              "    <tr>\n",
              "      <th>859</th>\n",
              "      <td>126109</td>\n",
              "      <td>Universidad Tecnológica Metropolitana</td>\n",
              "    </tr>\n",
              "    <tr>\n",
              "      <th>860</th>\n",
              "      <td>7438</td>\n",
              "      <td>Zona Franca de Iquique</td>\n",
              "    </tr>\n",
              "  </tbody>\n",
              "</table>\n",
              "<p>861 rows × 2 columns</p>\n",
              "</div>"
            ],
            "text/plain": [
              "    CodigoEmpresa                                      NombreEmpresa\n",
              "0         1034640   CORPORACION MUNICIPAL DE PEÑALOLEN PARA EL DE...\n",
              "1            7311   Hospital de enfermedades InfecciDr. Lucio Cór...\n",
              "2            7086                                              AGCID\n",
              "3         1224636           Agencia Chilena de Eficiencia Energética\n",
              "4            7193    Agencia de Promoción de la Inversión Extranjera\n",
              "..            ...                                                ...\n",
              "856         96996                          Universidad de Valparaíso\n",
              "857         99805                            Universidad del Bío-Bío\n",
              "858        164268  UNIVERSIDAD METROPOLITANA DE CIENCIAS DE LA ED...\n",
              "859        126109              Universidad Tecnológica Metropolitana\n",
              "860          7438                             Zona Franca de Iquique\n",
              "\n",
              "[861 rows x 2 columns]"
            ]
          },
          "metadata": {
            "tags": []
          },
          "execution_count": 4
        }
      ]
    },
    {
      "cell_type": "code",
      "metadata": {
        "id": "bOkqzOavl5ue",
        "colab_type": "code",
        "colab": {}
      },
      "source": [
        "def ocxfecha(fecha,ticket):\n",
        "  url = 'http://api.mercadopublico.cl/servicios/v1/publico/ordenesdecompra.json?fecha='+fecha+'&ticket='+ticket\n",
        "  r = requests.get(url)\n",
        "  comp_json = r.json()\n",
        "  df = pd.json_normalize(comp_json['Listado']) \n",
        "  return df['Codigo']"
      ],
      "execution_count": 5,
      "outputs": []
    },
    {
      "cell_type": "code",
      "metadata": {
        "id": "jDSnH7ENl5yu",
        "colab_type": "code",
        "colab": {
          "base_uri": "https://localhost:8080/",
          "height": 34
        },
        "outputId": "a0a02e1a-1bf5-4c3f-878b-d6686540c252"
      },
      "source": [
        "dfocs = ocxfecha('01012020', ticket)\n",
        "type(dfocs)"
      ],
      "execution_count": 7,
      "outputs": [
        {
          "output_type": "execute_result",
          "data": {
            "text/plain": [
              "pandas.core.series.Series"
            ]
          },
          "metadata": {
            "tags": []
          },
          "execution_count": 7
        }
      ]
    },
    {
      "cell_type": "code",
      "metadata": {
        "id": "jOg6Yb08a9Xr",
        "colab_type": "code",
        "colab": {}
      },
      "source": [
        "def ocd(codigo, ticket):\n",
        "  import time\n",
        "  time.sleep(2)\n",
        "  url = 'http://api.mercadopublico.cl/servicios/v1/publico/ordenesdecompra.json?codigo='+codigo+'&ticket='+ticket\n",
        "  r = requests.get(url)\n",
        "  comp_json = r.json()\n",
        "  df = pd.json_normalize(comp_json['Listado']) \n",
        "  return df"
      ],
      "execution_count": 11,
      "outputs": []
    },
    {
      "cell_type": "code",
      "metadata": {
        "id": "qD6vJv_-cnrW",
        "colab_type": "code",
        "colab": {
          "base_uri": "https://localhost:8080/",
          "height": 168
        },
        "outputId": "5f7fbf8c-cf3c-4e4c-ea9d-06f3c1b44875"
      },
      "source": [
        "dftest = ocd('1057501-6535-SE20', ticket)\n",
        "dftest"
      ],
      "execution_count": 12,
      "outputs": [
        {
          "output_type": "execute_result",
          "data": {
            "text/html": [
              "<div>\n",
              "<style scoped>\n",
              "    .dataframe tbody tr th:only-of-type {\n",
              "        vertical-align: middle;\n",
              "    }\n",
              "\n",
              "    .dataframe tbody tr th {\n",
              "        vertical-align: top;\n",
              "    }\n",
              "\n",
              "    .dataframe thead th {\n",
              "        text-align: right;\n",
              "    }\n",
              "</style>\n",
              "<table border=\"1\" class=\"dataframe\">\n",
              "  <thead>\n",
              "    <tr style=\"text-align: right;\">\n",
              "      <th></th>\n",
              "      <th>Codigo</th>\n",
              "      <th>Nombre</th>\n",
              "      <th>CodigoEstado</th>\n",
              "      <th>Estado</th>\n",
              "      <th>CodigoLicitacion</th>\n",
              "      <th>Descripcion</th>\n",
              "      <th>CodigoTipo</th>\n",
              "      <th>Tipo</th>\n",
              "      <th>TipoMoneda</th>\n",
              "      <th>CodigoEstadoProveedor</th>\n",
              "      <th>EstadoProveedor</th>\n",
              "      <th>TieneItems</th>\n",
              "      <th>PromedioCalificacion</th>\n",
              "      <th>CantidadEvaluacion</th>\n",
              "      <th>Descuentos</th>\n",
              "      <th>Cargos</th>\n",
              "      <th>TotalNeto</th>\n",
              "      <th>PorcentajeIva</th>\n",
              "      <th>Impuestos</th>\n",
              "      <th>Total</th>\n",
              "      <th>Financiamiento</th>\n",
              "      <th>Pais</th>\n",
              "      <th>TipoDespacho</th>\n",
              "      <th>FormaPago</th>\n",
              "      <th>Fechas.FechaCreacion</th>\n",
              "      <th>Fechas.FechaEnvio</th>\n",
              "      <th>Fechas.FechaAceptacion</th>\n",
              "      <th>Fechas.FechaCancelacion</th>\n",
              "      <th>Fechas.FechaUltimaModificacion</th>\n",
              "      <th>Comprador.CodigoOrganismo</th>\n",
              "      <th>Comprador.NombreOrganismo</th>\n",
              "      <th>Comprador.RutUnidad</th>\n",
              "      <th>Comprador.CodigoUnidad</th>\n",
              "      <th>Comprador.NombreUnidad</th>\n",
              "      <th>Comprador.Actividad</th>\n",
              "      <th>Comprador.DireccionUnidad</th>\n",
              "      <th>Comprador.ComunaUnidad</th>\n",
              "      <th>Comprador.RegionUnidad</th>\n",
              "      <th>Comprador.Pais</th>\n",
              "      <th>Comprador.NombreContacto</th>\n",
              "      <th>Comprador.CargoContacto</th>\n",
              "      <th>Comprador.FonoContacto</th>\n",
              "      <th>Comprador.MailContacto</th>\n",
              "      <th>Proveedor.Codigo</th>\n",
              "      <th>Proveedor.Nombre</th>\n",
              "      <th>Proveedor.Actividad</th>\n",
              "      <th>Proveedor.CodigoSucursal</th>\n",
              "      <th>Proveedor.NombreSucursal</th>\n",
              "      <th>Proveedor.RutSucursal</th>\n",
              "      <th>Proveedor.Direccion</th>\n",
              "      <th>Proveedor.Comuna</th>\n",
              "      <th>Proveedor.Region</th>\n",
              "      <th>Proveedor.Pais</th>\n",
              "      <th>Proveedor.NombreContacto</th>\n",
              "      <th>Proveedor.CargoContacto</th>\n",
              "      <th>Proveedor.FonoContacto</th>\n",
              "      <th>Proveedor.MailContacto</th>\n",
              "      <th>Items.Cantidad</th>\n",
              "      <th>Items.Listado</th>\n",
              "    </tr>\n",
              "  </thead>\n",
              "  <tbody>\n",
              "    <tr>\n",
              "      <th>0</th>\n",
              "      <td>1057501-6535-SE20</td>\n",
              "      <td>CONVENIOS Marcapasos - Abril 2020</td>\n",
              "      <td>6</td>\n",
              "      <td>Aceptada</td>\n",
              "      <td>1057501-181-LR19</td>\n",
              "      <td>1. Convenio desde Lic. Pública 1057501-181-LR1...</td>\n",
              "      <td>8</td>\n",
              "      <td>SE</td>\n",
              "      <td>CLP</td>\n",
              "      <td>4</td>\n",
              "      <td>Aceptada</td>\n",
              "      <td>1</td>\n",
              "      <td>0.0</td>\n",
              "      <td>0</td>\n",
              "      <td>0.0</td>\n",
              "      <td>0.0</td>\n",
              "      <td>10017000.0</td>\n",
              "      <td>0.0</td>\n",
              "      <td>0.0</td>\n",
              "      <td>10017000.0</td>\n",
              "      <td></td>\n",
              "      <td>CL</td>\n",
              "      <td>7</td>\n",
              "      <td>2</td>\n",
              "      <td>2020-07-14T12:50:50.48</td>\n",
              "      <td>2020-07-15T17:57:17.413</td>\n",
              "      <td>2020-07-19T22:04:25.753</td>\n",
              "      <td>None</td>\n",
              "      <td>2020-07-15T17:21:00</td>\n",
              "      <td>7320</td>\n",
              "      <td>Complejo Asistencial Dr. Sotero del Rio</td>\n",
              "      <td>61.608.502-6</td>\n",
              "      <td>1057501</td>\n",
              "      <td>Bienes y Servicios</td>\n",
              "      <td>Servicio Público</td>\n",
              "      <td>Avenida Melchor  Concha y Toro 3459, Puente Alto</td>\n",
              "      <td>Puente Alto</td>\n",
              "      <td>Región Metropolitana de Santiago</td>\n",
              "      <td>CL</td>\n",
              "      <td>Carlos Vargas</td>\n",
              "      <td></td>\n",
              "      <td>56-2-25766046</td>\n",
              "      <td>cvargasa@ssmso.cl</td>\n",
              "      <td>1342684</td>\n",
              "      <td>CICARSOT S. A.</td>\n",
              "      <td>OTRAS ACTIVIDADES EMPRESARIALES RELACIONADAS C...</td>\n",
              "      <td>743873</td>\n",
              "      <td>CICARSOT S. A.</td>\n",
              "      <td>76.241.497-k</td>\n",
              "      <td>Portugal 20 of.27</td>\n",
              "      <td>Santiago Centro</td>\n",
              "      <td>Región Metropolitana de Santiago</td>\n",
              "      <td>CL</td>\n",
              "      <td>Demian Andrés Fullerton Moreno</td>\n",
              "      <td>Gerente General</td>\n",
              "      <td>56-9-98248245</td>\n",
              "      <td>dfullert@gmail.com</td>\n",
              "      <td>3</td>\n",
              "      <td>[{'Correlativo': 1, 'CodigoCategoria': 8512160...</td>\n",
              "    </tr>\n",
              "  </tbody>\n",
              "</table>\n",
              "</div>"
            ],
            "text/plain": [
              "              Codigo  ...                                      Items.Listado\n",
              "0  1057501-6535-SE20  ...  [{'Correlativo': 1, 'CodigoCategoria': 8512160...\n",
              "\n",
              "[1 rows x 59 columns]"
            ]
          },
          "metadata": {
            "tags": []
          },
          "execution_count": 12
        }
      ]
    },
    {
      "cell_type": "code",
      "metadata": {
        "id": "m94un9x-dKGr",
        "colab_type": "code",
        "colab": {}
      },
      "source": [
        "#pd.json_normalize(dftest['Items.Listado'].to_dict()[0])#"
      ],
      "execution_count": 13,
      "outputs": []
    },
    {
      "cell_type": "code",
      "metadata": {
        "id": "PPt0w5dVrNIU",
        "colab_type": "code",
        "colab": {}
      },
      "source": [
        "def oc_fecha_con_detalle(fecha, ticket):\n",
        "  listoc = ocxfecha(fecha,ticket)\n",
        "  dfoctotal = pd.DataFrame()\n",
        "  for oc in listoc:\n",
        "    dfoctotal.append(ocd(oc, ticket))\n",
        "  \n",
        "  return dfoctotal"
      ],
      "execution_count": 14,
      "outputs": []
    },
    {
      "cell_type": "code",
      "metadata": {
        "id": "lIKqgWjtr4qD",
        "colab_type": "code",
        "colab": {}
      },
      "source": [
        "import time\n",
        "\n",
        "dfprueba =  oc_fecha_con_detalle('01012020', ticket)\n",
        "dfprueba"
      ],
      "execution_count": null,
      "outputs": []
    },
    {
      "cell_type": "code",
      "metadata": {
        "id": "Byg55secS9qE",
        "colab_type": "code",
        "colab": {}
      },
      "source": [
        ""
      ],
      "execution_count": null,
      "outputs": []
    }
  ]
}