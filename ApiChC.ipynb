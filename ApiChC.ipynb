{
  "nbformat": 4,
  "nbformat_minor": 0,
  "metadata": {
    "colab": {
      "name": "ApiChC",
      "provenance": [],
      "collapsed_sections": [],
      "authorship_tag": "ABX9TyMuLVH+zK42l53q0tMYmtAN",
      "include_colab_link": true
    },
    "kernelspec": {
      "name": "python3",
      "display_name": "Python 3"
    }
  },
  "cells": [
    {
      "cell_type": "markdown",
      "metadata": {
        "id": "view-in-github",
        "colab_type": "text"
      },
      "source": [
        "<a href=\"https://colab.research.google.com/github/josemoragonzalez/ejemplosColab/blob/master/ApiChC.ipynb\" target=\"_parent\"><img src=\"https://colab.research.google.com/assets/colab-badge.svg\" alt=\"Open In Colab\"/></a>"
      ]
    },
    {
      "cell_type": "markdown",
      "metadata": {
        "id": "QTwzosXGkJCP",
        "colab_type": "text"
      },
      "source": [
        "# Tercer Ejercicio, Api desarrolladores ChC"
      ]
    },
    {
      "cell_type": "code",
      "metadata": {
        "id": "tmcYviyJkARg",
        "colab_type": "code",
        "colab": {}
      },
      "source": [
        "import pandas as pd\n",
        "import requests"
      ],
      "execution_count": 1,
      "outputs": []
    },
    {
      "cell_type": "code",
      "metadata": {
        "id": "Ivxeo06mrf2R",
        "colab_type": "code",
        "colab": {}
      },
      "source": [
        "# Agregar tu ticket\n",
        "ticket = 'C495FBFD-6480-46C6-8A1A-EAE762EC0271'"
      ],
      "execution_count": 2,
      "outputs": []
    },
    {
      "cell_type": "code",
      "metadata": {
        "id": "LFTmWC4Uld5p",
        "colab_type": "code",
        "colab": {}
      },
      "source": [
        "def compradores(ticket):\n",
        "  url = 'http://api.mercadopublico.cl/servicios/v1/Publico/Empresas/BuscarComprador?ticket='+ticket\n",
        "  r = requests.get(url)\n",
        "  comp_json = r.json()\n",
        "  df = pd.json_normalize(comp_json['listaEmpresas']) \n",
        "  return df"
      ],
      "execution_count": 3,
      "outputs": []
    },
    {
      "cell_type": "code",
      "metadata": {
        "id": "GEYnpXQVl5mc",
        "colab_type": "code",
        "colab": {
          "base_uri": "https://localhost:8080/",
          "height": 419
        },
        "outputId": "99c8b947-8e93-413b-eaf1-ff71c2850197"
      },
      "source": [
        "dfcomp = compradores(ticket)\n",
        "dfcomp"
      ],
      "execution_count": 4,
      "outputs": [
        {
          "output_type": "execute_result",
          "data": {
            "text/html": [
              "<div>\n",
              "<style scoped>\n",
              "    .dataframe tbody tr th:only-of-type {\n",
              "        vertical-align: middle;\n",
              "    }\n",
              "\n",
              "    .dataframe tbody tr th {\n",
              "        vertical-align: top;\n",
              "    }\n",
              "\n",
              "    .dataframe thead th {\n",
              "        text-align: right;\n",
              "    }\n",
              "</style>\n",
              "<table border=\"1\" class=\"dataframe\">\n",
              "  <thead>\n",
              "    <tr style=\"text-align: right;\">\n",
              "      <th></th>\n",
              "      <th>CodigoEmpresa</th>\n",
              "      <th>NombreEmpresa</th>\n",
              "    </tr>\n",
              "  </thead>\n",
              "  <tbody>\n",
              "    <tr>\n",
              "      <th>0</th>\n",
              "      <td>1034640</td>\n",
              "      <td>CORPORACION MUNICIPAL DE PEÑALOLEN PARA EL DE...</td>\n",
              "    </tr>\n",
              "    <tr>\n",
              "      <th>1</th>\n",
              "      <td>7311</td>\n",
              "      <td>Hospital de enfermedades InfecciDr. Lucio Cór...</td>\n",
              "    </tr>\n",
              "    <tr>\n",
              "      <th>2</th>\n",
              "      <td>7086</td>\n",
              "      <td>AGCID</td>\n",
              "    </tr>\n",
              "    <tr>\n",
              "      <th>3</th>\n",
              "      <td>1224636</td>\n",
              "      <td>Agencia Chilena de Eficiencia Energética</td>\n",
              "    </tr>\n",
              "    <tr>\n",
              "      <th>4</th>\n",
              "      <td>7193</td>\n",
              "      <td>Agencia de Promoción de la Inversión Extranjera</td>\n",
              "    </tr>\n",
              "    <tr>\n",
              "      <th>...</th>\n",
              "      <td>...</td>\n",
              "      <td>...</td>\n",
              "    </tr>\n",
              "    <tr>\n",
              "      <th>856</th>\n",
              "      <td>96996</td>\n",
              "      <td>Universidad de Valparaíso</td>\n",
              "    </tr>\n",
              "    <tr>\n",
              "      <th>857</th>\n",
              "      <td>99805</td>\n",
              "      <td>Universidad del Bío-Bío</td>\n",
              "    </tr>\n",
              "    <tr>\n",
              "      <th>858</th>\n",
              "      <td>164268</td>\n",
              "      <td>UNIVERSIDAD METROPOLITANA DE CIENCIAS DE LA ED...</td>\n",
              "    </tr>\n",
              "    <tr>\n",
              "      <th>859</th>\n",
              "      <td>126109</td>\n",
              "      <td>Universidad Tecnológica Metropolitana</td>\n",
              "    </tr>\n",
              "    <tr>\n",
              "      <th>860</th>\n",
              "      <td>7438</td>\n",
              "      <td>Zona Franca de Iquique</td>\n",
              "    </tr>\n",
              "  </tbody>\n",
              "</table>\n",
              "<p>861 rows × 2 columns</p>\n",
              "</div>"
            ],
            "text/plain": [
              "    CodigoEmpresa                                      NombreEmpresa\n",
              "0         1034640   CORPORACION MUNICIPAL DE PEÑALOLEN PARA EL DE...\n",
              "1            7311   Hospital de enfermedades InfecciDr. Lucio Cór...\n",
              "2            7086                                              AGCID\n",
              "3         1224636           Agencia Chilena de Eficiencia Energética\n",
              "4            7193    Agencia de Promoción de la Inversión Extranjera\n",
              "..            ...                                                ...\n",
              "856         96996                          Universidad de Valparaíso\n",
              "857         99805                            Universidad del Bío-Bío\n",
              "858        164268  UNIVERSIDAD METROPOLITANA DE CIENCIAS DE LA ED...\n",
              "859        126109              Universidad Tecnológica Metropolitana\n",
              "860          7438                             Zona Franca de Iquique\n",
              "\n",
              "[861 rows x 2 columns]"
            ]
          },
          "metadata": {
            "tags": []
          },
          "execution_count": 4
        }
      ]
    },
    {
      "cell_type": "code",
      "metadata": {
        "id": "bOkqzOavl5ue",
        "colab_type": "code",
        "colab": {}
      },
      "source": [
        "def ocxfecha(fecha,ticket):\n",
        "  url = 'http://api.mercadopublico.cl/servicios/v1/publico/ordenesdecompra.json?fecha='+fecha+'&ticket='+ticket\n",
        "  r = requests.get(url)\n",
        "  comp_json = r.json()\n",
        "  df = pd.json_normalize(comp_json['Listado']) \n",
        "  return df['Codigo']"
      ],
      "execution_count": 5,
      "outputs": []
    },
    {
      "cell_type": "code",
      "metadata": {
        "id": "jDSnH7ENl5yu",
        "colab_type": "code",
        "colab": {
          "base_uri": "https://localhost:8080/",
          "height": 34
        },
        "outputId": "5825649f-cb77-4f9b-c60f-398ae70a82e3"
      },
      "source": [
        "dfocs = ocxfecha('01012018', ticket)\n",
        "len(dfocs)"
      ],
      "execution_count": 19,
      "outputs": [
        {
          "output_type": "execute_result",
          "data": {
            "text/plain": [
              "195"
            ]
          },
          "metadata": {
            "tags": []
          },
          "execution_count": 19
        }
      ]
    },
    {
      "cell_type": "code",
      "metadata": {
        "id": "jOg6Yb08a9Xr",
        "colab_type": "code",
        "colab": {}
      },
      "source": [
        "def ocd(codigo, ticket):\n",
        "  import time\n",
        "  time.sleep(2)\n",
        "  url = 'http://api.mercadopublico.cl/servicios/v1/publico/ordenesdecompra.json?codigo='+codigo+'&ticket='+ticket\n",
        "  r = requests.get(url)\n",
        "  comp_json = r.json()\n",
        "  df = pd.json_normalize(comp_json['Listado']) \n",
        "  dfred = df[['Codigo', 'Estado', 'TipoMoneda', 'Total', 'Fechas.FechaEnvio', 'Comprador.NombreOrganismo', 'Proveedor.Nombre']]\n",
        "  return dfred"
      ],
      "execution_count": 20,
      "outputs": []
    },
    {
      "cell_type": "code",
      "metadata": {
        "id": "qD6vJv_-cnrW",
        "colab_type": "code",
        "colab": {
          "base_uri": "https://localhost:8080/",
          "height": 80
        },
        "outputId": "071b60f4-0c8e-463b-fd7d-bd5ccd267ed3"
      },
      "source": [
        "dftest = ocd('1057501-6535-SE20', ticket)\n",
        "dftest"
      ],
      "execution_count": 21,
      "outputs": [
        {
          "output_type": "execute_result",
          "data": {
            "text/html": [
              "<div>\n",
              "<style scoped>\n",
              "    .dataframe tbody tr th:only-of-type {\n",
              "        vertical-align: middle;\n",
              "    }\n",
              "\n",
              "    .dataframe tbody tr th {\n",
              "        vertical-align: top;\n",
              "    }\n",
              "\n",
              "    .dataframe thead th {\n",
              "        text-align: right;\n",
              "    }\n",
              "</style>\n",
              "<table border=\"1\" class=\"dataframe\">\n",
              "  <thead>\n",
              "    <tr style=\"text-align: right;\">\n",
              "      <th></th>\n",
              "      <th>Codigo</th>\n",
              "      <th>Estado</th>\n",
              "      <th>TipoMoneda</th>\n",
              "      <th>Total</th>\n",
              "      <th>Fechas.FechaEnvio</th>\n",
              "      <th>Comprador.NombreOrganismo</th>\n",
              "      <th>Proveedor.Nombre</th>\n",
              "    </tr>\n",
              "  </thead>\n",
              "  <tbody>\n",
              "    <tr>\n",
              "      <th>0</th>\n",
              "      <td>1057501-6535-SE20</td>\n",
              "      <td>Aceptada</td>\n",
              "      <td>CLP</td>\n",
              "      <td>10017000.0</td>\n",
              "      <td>2020-07-15T17:57:17.413</td>\n",
              "      <td>Complejo Asistencial Dr. Sotero del Rio</td>\n",
              "      <td>CICARSOT S. A.</td>\n",
              "    </tr>\n",
              "  </tbody>\n",
              "</table>\n",
              "</div>"
            ],
            "text/plain": [
              "              Codigo  ... Proveedor.Nombre\n",
              "0  1057501-6535-SE20  ...   CICARSOT S. A.\n",
              "\n",
              "[1 rows x 7 columns]"
            ]
          },
          "metadata": {
            "tags": []
          },
          "execution_count": 21
        }
      ]
    },
    {
      "cell_type": "code",
      "metadata": {
        "id": "m94un9x-dKGr",
        "colab_type": "code",
        "colab": {}
      },
      "source": [
        "#pd.json_normalize(dftest['Items.Listado'].to_dict()[0])#"
      ],
      "execution_count": 13,
      "outputs": []
    },
    {
      "cell_type": "code",
      "metadata": {
        "id": "PPt0w5dVrNIU",
        "colab_type": "code",
        "colab": {}
      },
      "source": [
        "def oc_fecha_con_detalle(fecha, ticket):\n",
        "  listoc = ocxfecha(fecha,ticket)\n",
        "  dfoctotal = pd.DataFrame()\n",
        "  for oc in listoc:\n",
        "    dfoctotal = (dfoctotal.append(ocd(oc, ticket)))\n",
        "\n",
        "  return dfoctotal"
      ],
      "execution_count": 38,
      "outputs": []
    },
    {
      "cell_type": "code",
      "metadata": {
        "id": "lIKqgWjtr4qD",
        "colab_type": "code",
        "colab": {
          "base_uri": "https://localhost:8080/",
          "height": 419
        },
        "outputId": "7a66a375-becc-4e65-9fed-a26b9f405ab9"
      },
      "source": [
        "import time\n",
        "dfprueba =  oc_fecha_con_detalle('01012020', ticket)\n",
        "dfprueba"
      ],
      "execution_count": 39,
      "outputs": [
        {
          "output_type": "execute_result",
          "data": {
            "text/html": [
              "<div>\n",
              "<style scoped>\n",
              "    .dataframe tbody tr th:only-of-type {\n",
              "        vertical-align: middle;\n",
              "    }\n",
              "\n",
              "    .dataframe tbody tr th {\n",
              "        vertical-align: top;\n",
              "    }\n",
              "\n",
              "    .dataframe thead th {\n",
              "        text-align: right;\n",
              "    }\n",
              "</style>\n",
              "<table border=\"1\" class=\"dataframe\">\n",
              "  <thead>\n",
              "    <tr style=\"text-align: right;\">\n",
              "      <th></th>\n",
              "      <th>Codigo</th>\n",
              "      <th>Estado</th>\n",
              "      <th>TipoMoneda</th>\n",
              "      <th>Total</th>\n",
              "      <th>Fechas.FechaEnvio</th>\n",
              "      <th>Comprador.NombreOrganismo</th>\n",
              "      <th>Proveedor.Nombre</th>\n",
              "    </tr>\n",
              "  </thead>\n",
              "  <tbody>\n",
              "    <tr>\n",
              "      <th>0</th>\n",
              "      <td>1057384-402-SE19</td>\n",
              "      <td>Aceptada</td>\n",
              "      <td>CLP</td>\n",
              "      <td>250000.0</td>\n",
              "      <td>2019-12-31T11:32:46.743</td>\n",
              "      <td>Hospital Tocopilla</td>\n",
              "      <td>das ohr</td>\n",
              "    </tr>\n",
              "    <tr>\n",
              "      <th>0</th>\n",
              "      <td>1057402-10483-SE19</td>\n",
              "      <td>En proceso</td>\n",
              "      <td>CLP</td>\n",
              "      <td>900000.0</td>\n",
              "      <td>2019-12-12T10:37:23.943</td>\n",
              "      <td>Hospital Dr. Lautaro Navarro Avaria</td>\n",
              "      <td>JOSE LUIS</td>\n",
              "    </tr>\n",
              "    <tr>\n",
              "      <th>0</th>\n",
              "      <td>1057402-10756-SE19</td>\n",
              "      <td>Aceptada</td>\n",
              "      <td>CLP</td>\n",
              "      <td>1316467.0</td>\n",
              "      <td>2019-12-31T13:18:35.683</td>\n",
              "      <td>Hospital Dr. Lautaro Navarro Avaria</td>\n",
              "      <td>Carola Andrea</td>\n",
              "    </tr>\n",
              "    <tr>\n",
              "      <th>0</th>\n",
              "      <td>1057402-10915-CM19</td>\n",
              "      <td>Aceptada</td>\n",
              "      <td>CLP</td>\n",
              "      <td>2082690.0</td>\n",
              "      <td>2019-12-30T17:25:04.627</td>\n",
              "      <td>Hospital Dr. Lautaro Navarro Avaria</td>\n",
              "      <td>Johnson &amp; Johnson Medical</td>\n",
              "    </tr>\n",
              "    <tr>\n",
              "      <th>0</th>\n",
              "      <td>1057402-10997-SE19</td>\n",
              "      <td>Aceptada</td>\n",
              "      <td>CLP</td>\n",
              "      <td>360570.0</td>\n",
              "      <td>2019-12-30T18:19:51.637</td>\n",
              "      <td>Hospital Dr. Lautaro Navarro Avaria</td>\n",
              "      <td>Johnson &amp; Johnson Medical</td>\n",
              "    </tr>\n",
              "    <tr>\n",
              "      <th>...</th>\n",
              "      <td>...</td>\n",
              "      <td>...</td>\n",
              "      <td>...</td>\n",
              "      <td>...</td>\n",
              "      <td>...</td>\n",
              "      <td>...</td>\n",
              "      <td>...</td>\n",
              "    </tr>\n",
              "    <tr>\n",
              "      <th>0</th>\n",
              "      <td>762514-35-SE19</td>\n",
              "      <td>Aceptada</td>\n",
              "      <td>CLP</td>\n",
              "      <td>710144.0</td>\n",
              "      <td>2019-04-05T15:07:00.26</td>\n",
              "      <td>CAPREDENA</td>\n",
              "      <td>NOVOFARMA SERVICE S A</td>\n",
              "    </tr>\n",
              "    <tr>\n",
              "      <th>0</th>\n",
              "      <td>812261-1758-SE19</td>\n",
              "      <td>Aceptada</td>\n",
              "      <td>CLP</td>\n",
              "      <td>5486000.0</td>\n",
              "      <td>2019-12-27T11:51:12.757</td>\n",
              "      <td>HOSPITAL CLINICO METROPOLITANO LA FLORIDA DRA ...</td>\n",
              "      <td>FastCare SpA</td>\n",
              "    </tr>\n",
              "    <tr>\n",
              "      <th>0</th>\n",
              "      <td>879-345-CM19</td>\n",
              "      <td>Aceptada</td>\n",
              "      <td>CLP</td>\n",
              "      <td>128029.0</td>\n",
              "      <td>2019-12-31T21:14:31.933</td>\n",
              "      <td>Instituto Nacional de la Juventud - MIDEPLAN</td>\n",
              "      <td>Sky Airline</td>\n",
              "    </tr>\n",
              "    <tr>\n",
              "      <th>0</th>\n",
              "      <td>924-965-SE19</td>\n",
              "      <td>Aceptada</td>\n",
              "      <td>CLP</td>\n",
              "      <td>1957550.0</td>\n",
              "      <td>2019-12-28T11:01:21.193</td>\n",
              "      <td>Subsecretaría de Salud Pública</td>\n",
              "      <td>Climalva Climatizacion Limitada</td>\n",
              "    </tr>\n",
              "    <tr>\n",
              "      <th>0</th>\n",
              "      <td>956-1879-SE17</td>\n",
              "      <td>Aceptada</td>\n",
              "      <td>CLP</td>\n",
              "      <td>1565088.0</td>\n",
              "      <td>2017-11-30T13:01:25.45</td>\n",
              "      <td>Servicio de Salud Valparaíso San Antonio</td>\n",
              "      <td>NOVOFARMA SERVICE S A</td>\n",
              "    </tr>\n",
              "  </tbody>\n",
              "</table>\n",
              "<p>204 rows × 7 columns</p>\n",
              "</div>"
            ],
            "text/plain": [
              "                Codigo  ...                 Proveedor.Nombre\n",
              "0     1057384-402-SE19  ...                          das ohr\n",
              "0   1057402-10483-SE19  ...                        JOSE LUIS\n",
              "0   1057402-10756-SE19  ...                    Carola Andrea\n",
              "0   1057402-10915-CM19  ...        Johnson & Johnson Medical\n",
              "0   1057402-10997-SE19  ...        Johnson & Johnson Medical\n",
              "..                 ...  ...                              ...\n",
              "0       762514-35-SE19  ...            NOVOFARMA SERVICE S A\n",
              "0     812261-1758-SE19  ...                     FastCare SpA\n",
              "0         879-345-CM19  ...                      Sky Airline\n",
              "0         924-965-SE19  ...  Climalva Climatizacion Limitada\n",
              "0        956-1879-SE17  ...            NOVOFARMA SERVICE S A\n",
              "\n",
              "[204 rows x 7 columns]"
            ]
          },
          "metadata": {
            "tags": []
          },
          "execution_count": 39
        }
      ]
    },
    {
      "cell_type": "code",
      "metadata": {
        "id": "Byg55secS9qE",
        "colab_type": "code",
        "colab": {
          "base_uri": "https://localhost:8080/",
          "height": 32
        },
        "outputId": "bad3a402-3cfa-4297-f762-9d54cbe26211"
      },
      "source": [
        "dfprueba"
      ],
      "execution_count": 24,
      "outputs": [
        {
          "output_type": "execute_result",
          "data": {
            "text/html": [
              "<div>\n",
              "<style scoped>\n",
              "    .dataframe tbody tr th:only-of-type {\n",
              "        vertical-align: middle;\n",
              "    }\n",
              "\n",
              "    .dataframe tbody tr th {\n",
              "        vertical-align: top;\n",
              "    }\n",
              "\n",
              "    .dataframe thead th {\n",
              "        text-align: right;\n",
              "    }\n",
              "</style>\n",
              "<table border=\"1\" class=\"dataframe\">\n",
              "  <thead>\n",
              "    <tr style=\"text-align: right;\">\n",
              "      <th></th>\n",
              "    </tr>\n",
              "  </thead>\n",
              "  <tbody>\n",
              "  </tbody>\n",
              "</table>\n",
              "</div>"
            ],
            "text/plain": [
              "Empty DataFrame\n",
              "Columns: []\n",
              "Index: []"
            ]
          },
          "metadata": {
            "tags": []
          },
          "execution_count": 24
        }
      ]
    }
  ]
}